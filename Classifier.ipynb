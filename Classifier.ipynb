{
  "nbformat": 4,
  "nbformat_minor": 0,
  "metadata": {
    "kernelspec": {
      "display_name": "Python 3",
      "language": "python",
      "name": "python3"
    },
    "language_info": {
      "codemirror_mode": {
        "name": "ipython",
        "version": 3
      },
      "file_extension": ".py",
      "mimetype": "text/x-python",
      "name": "python",
      "nbconvert_exporter": "python",
      "pygments_lexer": "ipython3",
      "version": "3.7.1"
    },
    "colab": {
      "name": "Classifier.ipynb",
      "provenance": [],
      "collapsed_sections": [],
      "include_colab_link": true
    }
  },
  "cells": [
    {
      "cell_type": "markdown",
      "metadata": {
        "id": "view-in-github",
        "colab_type": "text"
      },
      "source": [
        "<a href=\"https://colab.research.google.com/github/lukaborec/FER2013/blob/master/Classifier.ipynb\" target=\"_parent\"><img src=\"https://colab.research.google.com/assets/colab-badge.svg\" alt=\"Open In Colab\"/></a>"
      ]
    },
    {
      "cell_type": "markdown",
      "metadata": {
        "id": "B3ZWIqr07hKT",
        "colab_type": "text"
      },
      "source": [
        "Import the libraries"
      ]
    },
    {
      "cell_type": "code",
      "metadata": {
        "id": "R4RaEP_8yY8w",
        "colab_type": "code",
        "colab": {}
      },
      "source": [
        "import pandas as pd\n",
        "import numpy as np\n",
        "import matplotlib.pyplot as plt\n",
        "import seaborn as sns\n",
        "from keras.models import Model\n",
        "from keras.callbacks import EarlyStopping\n",
        "from keras.layers import Conv2D, Dense, Flatten, MaxPooling2D, Dropout, BatchNormalization, Input\n",
        "from keras.utils import to_categorical\n",
        "from keras.preprocessing.image import ImageDataGenerator\n",
        "from sklearn.metrics import accuracy_score\n",
        "%matplotlib inline"
      ],
      "execution_count": 0,
      "outputs": []
    },
    {
      "cell_type": "markdown",
      "metadata": {
        "id": "IRtiNjdayY80",
        "colab_type": "text"
      },
      "source": [
        "Load the dataset"
      ]
    },
    {
      "cell_type": "code",
      "metadata": {
        "id": "X70nPzyuTT6U",
        "colab_type": "code",
        "outputId": "47053600-b960-428d-d62b-9c1a7c8d35dc",
        "colab": {
          "base_uri": "https://localhost:8080/",
          "height": 35
        }
      },
      "source": [
        "from google.colab import drive\n",
        "drive.mount('/content/drive')"
      ],
      "execution_count": 0,
      "outputs": [
        {
          "output_type": "stream",
          "text": [
            "Drive already mounted at /content/drive; to attempt to forcibly remount, call drive.mount(\"/content/drive\", force_remount=True).\n"
          ],
          "name": "stdout"
        }
      ]
    },
    {
      "cell_type": "code",
      "metadata": {
        "id": "AstzVbQAyY81",
        "colab_type": "code",
        "colab": {}
      },
      "source": [
        "data = pd.read_csv('/content/drive/My Drive/fer2013.csv')"
      ],
      "execution_count": 0,
      "outputs": []
    },
    {
      "cell_type": "code",
      "metadata": {
        "id": "OSXSCRlDyY84",
        "colab_type": "code",
        "outputId": "dc81f7c0-8da9-4a5d-9922-9626087f46b6",
        "colab": {
          "base_uri": "https://localhost:8080/",
          "height": 35
        }
      },
      "source": [
        "data.shape"
      ],
      "execution_count": 0,
      "outputs": [
        {
          "output_type": "execute_result",
          "data": {
            "text/plain": [
              "(35887, 3)"
            ]
          },
          "metadata": {
            "tags": []
          },
          "execution_count": 124
        }
      ]
    },
    {
      "cell_type": "code",
      "metadata": {
        "id": "H9dktMwlyY87",
        "colab_type": "code",
        "outputId": "3c29830b-e10e-4c60-b0fb-20e4cc1d9f42",
        "colab": {
          "base_uri": "https://localhost:8080/",
          "height": 198
        }
      },
      "source": [
        "data.head()"
      ],
      "execution_count": 0,
      "outputs": [
        {
          "output_type": "execute_result",
          "data": {
            "text/html": [
              "<div>\n",
              "<style scoped>\n",
              "    .dataframe tbody tr th:only-of-type {\n",
              "        vertical-align: middle;\n",
              "    }\n",
              "\n",
              "    .dataframe tbody tr th {\n",
              "        vertical-align: top;\n",
              "    }\n",
              "\n",
              "    .dataframe thead th {\n",
              "        text-align: right;\n",
              "    }\n",
              "</style>\n",
              "<table border=\"1\" class=\"dataframe\">\n",
              "  <thead>\n",
              "    <tr style=\"text-align: right;\">\n",
              "      <th></th>\n",
              "      <th>emotion</th>\n",
              "      <th>pixels</th>\n",
              "      <th>Usage</th>\n",
              "    </tr>\n",
              "  </thead>\n",
              "  <tbody>\n",
              "    <tr>\n",
              "      <th>0</th>\n",
              "      <td>0</td>\n",
              "      <td>70 80 82 72 58 58 60 63 54 58 60 48 89 115 121...</td>\n",
              "      <td>Training</td>\n",
              "    </tr>\n",
              "    <tr>\n",
              "      <th>1</th>\n",
              "      <td>0</td>\n",
              "      <td>151 150 147 155 148 133 111 140 170 174 182 15...</td>\n",
              "      <td>Training</td>\n",
              "    </tr>\n",
              "    <tr>\n",
              "      <th>2</th>\n",
              "      <td>2</td>\n",
              "      <td>231 212 156 164 174 138 161 173 182 200 106 38...</td>\n",
              "      <td>Training</td>\n",
              "    </tr>\n",
              "    <tr>\n",
              "      <th>3</th>\n",
              "      <td>4</td>\n",
              "      <td>24 32 36 30 32 23 19 20 30 41 21 22 32 34 21 1...</td>\n",
              "      <td>Training</td>\n",
              "    </tr>\n",
              "    <tr>\n",
              "      <th>4</th>\n",
              "      <td>6</td>\n",
              "      <td>4 0 0 0 0 0 0 0 0 0 0 0 3 15 23 28 48 50 58 84...</td>\n",
              "      <td>Training</td>\n",
              "    </tr>\n",
              "  </tbody>\n",
              "</table>\n",
              "</div>"
            ],
            "text/plain": [
              "   emotion                                             pixels     Usage\n",
              "0        0  70 80 82 72 58 58 60 63 54 58 60 48 89 115 121...  Training\n",
              "1        0  151 150 147 155 148 133 111 140 170 174 182 15...  Training\n",
              "2        2  231 212 156 164 174 138 161 173 182 200 106 38...  Training\n",
              "3        4  24 32 36 30 32 23 19 20 30 41 21 22 32 34 21 1...  Training\n",
              "4        6  4 0 0 0 0 0 0 0 0 0 0 0 3 15 23 28 48 50 58 84...  Training"
            ]
          },
          "metadata": {
            "tags": []
          },
          "execution_count": 125
        }
      ]
    },
    {
      "cell_type": "code",
      "metadata": {
        "id": "QvR7CGNxyY8_",
        "colab_type": "code",
        "outputId": "45f92bc0-cb5f-437e-fbb1-771c18742958",
        "colab": {
          "base_uri": "https://localhost:8080/",
          "height": 198
        }
      },
      "source": [
        "data.tail()"
      ],
      "execution_count": 0,
      "outputs": [
        {
          "output_type": "execute_result",
          "data": {
            "text/html": [
              "<div>\n",
              "<style scoped>\n",
              "    .dataframe tbody tr th:only-of-type {\n",
              "        vertical-align: middle;\n",
              "    }\n",
              "\n",
              "    .dataframe tbody tr th {\n",
              "        vertical-align: top;\n",
              "    }\n",
              "\n",
              "    .dataframe thead th {\n",
              "        text-align: right;\n",
              "    }\n",
              "</style>\n",
              "<table border=\"1\" class=\"dataframe\">\n",
              "  <thead>\n",
              "    <tr style=\"text-align: right;\">\n",
              "      <th></th>\n",
              "      <th>emotion</th>\n",
              "      <th>pixels</th>\n",
              "      <th>Usage</th>\n",
              "    </tr>\n",
              "  </thead>\n",
              "  <tbody>\n",
              "    <tr>\n",
              "      <th>35882</th>\n",
              "      <td>6</td>\n",
              "      <td>50 36 17 22 23 29 33 39 34 37 37 37 39 43 48 5...</td>\n",
              "      <td>PrivateTest</td>\n",
              "    </tr>\n",
              "    <tr>\n",
              "      <th>35883</th>\n",
              "      <td>3</td>\n",
              "      <td>178 174 172 173 181 188 191 194 196 199 200 20...</td>\n",
              "      <td>PrivateTest</td>\n",
              "    </tr>\n",
              "    <tr>\n",
              "      <th>35884</th>\n",
              "      <td>0</td>\n",
              "      <td>17 17 16 23 28 22 19 17 25 26 20 24 31 19 27 9...</td>\n",
              "      <td>PrivateTest</td>\n",
              "    </tr>\n",
              "    <tr>\n",
              "      <th>35885</th>\n",
              "      <td>3</td>\n",
              "      <td>30 28 28 29 31 30 42 68 79 81 77 67 67 71 63 6...</td>\n",
              "      <td>PrivateTest</td>\n",
              "    </tr>\n",
              "    <tr>\n",
              "      <th>35886</th>\n",
              "      <td>2</td>\n",
              "      <td>19 13 14 12 13 16 21 33 50 57 71 84 97 108 122...</td>\n",
              "      <td>PrivateTest</td>\n",
              "    </tr>\n",
              "  </tbody>\n",
              "</table>\n",
              "</div>"
            ],
            "text/plain": [
              "       emotion                                             pixels        Usage\n",
              "35882        6  50 36 17 22 23 29 33 39 34 37 37 37 39 43 48 5...  PrivateTest\n",
              "35883        3  178 174 172 173 181 188 191 194 196 199 200 20...  PrivateTest\n",
              "35884        0  17 17 16 23 28 22 19 17 25 26 20 24 31 19 27 9...  PrivateTest\n",
              "35885        3  30 28 28 29 31 30 42 68 79 81 77 67 67 71 63 6...  PrivateTest\n",
              "35886        2  19 13 14 12 13 16 21 33 50 57 71 84 97 108 122...  PrivateTest"
            ]
          },
          "metadata": {
            "tags": []
          },
          "execution_count": 126
        }
      ]
    },
    {
      "cell_type": "code",
      "metadata": {
        "id": "EzDaEwDR3XZF",
        "colab_type": "code",
        "outputId": "978cbcb1-fbb2-4469-db4b-a8804ea95556",
        "colab": {
          "base_uri": "https://localhost:8080/",
          "height": 35
        }
      },
      "source": [
        "data['Usage'].unique()"
      ],
      "execution_count": 0,
      "outputs": [
        {
          "output_type": "execute_result",
          "data": {
            "text/plain": [
              "array(['Training', 'PublicTest', 'PrivateTest'], dtype=object)"
            ]
          },
          "metadata": {
            "tags": []
          },
          "execution_count": 127
        }
      ]
    },
    {
      "cell_type": "code",
      "metadata": {
        "id": "KHAfOxHY3hTh",
        "colab_type": "code",
        "outputId": "d318bd28-2d34-4554-b482-842427a12de4",
        "colab": {
          "base_uri": "https://localhost:8080/",
          "height": 86
        }
      },
      "source": [
        "data.dtypes"
      ],
      "execution_count": 0,
      "outputs": [
        {
          "output_type": "execute_result",
          "data": {
            "text/plain": [
              "emotion     int64\n",
              "pixels     object\n",
              "Usage      object\n",
              "dtype: object"
            ]
          },
          "metadata": {
            "tags": []
          },
          "execution_count": 128
        }
      ]
    },
    {
      "cell_type": "code",
      "metadata": {
        "id": "g-POBxktyY9B",
        "colab_type": "code",
        "colab": {}
      },
      "source": [
        "#Expression dictionary\n",
        "emotion = {0:'Angry', \n",
        "           1:'Disgust', \n",
        "           2:'Fear', \n",
        "           3:'Happy', \n",
        "           4:'Sad', \n",
        "           5:'Surprise', \n",
        "           6:'Neutral'\n",
        "          }"
      ],
      "execution_count": 0,
      "outputs": []
    },
    {
      "cell_type": "code",
      "metadata": {
        "id": "YpzGJ3lCFJNI",
        "colab_type": "code",
        "outputId": "b109e294-eba4-421f-bc01-3fcd0fbd451c",
        "colab": {
          "base_uri": "https://localhost:8080/",
          "height": 281
        }
      },
      "source": [
        "sns.barplot(data['emotion'].astype(int).map(emotion).value_counts().values, \n",
        "            data['emotion'].astype(int).map(emotion).value_counts().index,\n",
        "           alpha=.5)\n",
        "plt.title('Distribution of expressions')\n",
        "sns.despine()\n",
        "plt.show()"
      ],
      "execution_count": 0,
      "outputs": [
        {
          "output_type": "display_data",
          "data": {
            "image/png": "[encoded data removed]",
            "text/plain": [
              "<Figure size 432x288 with 1 Axes>"
            ]
          },
          "metadata": {
            "tags": []
          }
        }
      ]
    },
    {
      "cell_type": "markdown",
      "metadata": {
        "id": "GrZd9_VyFNUk",
        "colab_type": "text"
      },
      "source": [
        "The dataset is imbalanced as 'Disgust' has too few entries, so it is dropped from the dataset."
      ]
    },
    {
      "cell_type": "code",
      "metadata": {
        "id": "bNPCDe-1FPMe",
        "colab_type": "code",
        "colab": {}
      },
      "source": [
        "data = data.loc[data['emotion'] != 1]\n"
      ],
      "execution_count": 0,
      "outputs": []
    },
    {
      "cell_type": "code",
      "metadata": {
        "id": "koe-JwXRKD5c",
        "colab_type": "code",
        "outputId": "1b8cfc28-baf0-4552-db23-af51c85c2ffe",
        "colab": {
          "base_uri": "https://localhost:8080/",
          "height": 35
        }
      },
      "source": [
        "data.emotion.unique()"
      ],
      "execution_count": 0,
      "outputs": [
        {
          "output_type": "execute_result",
          "data": {
            "text/plain": [
              "array([0, 2, 4, 6, 3, 5])"
            ]
          },
          "metadata": {
            "tags": []
          },
          "execution_count": 132
        }
      ]
    },
    {
      "cell_type": "code",
      "metadata": {
        "id": "42vNzDcrKFcU",
        "colab_type": "code",
        "colab": {}
      },
      "source": [
        "data.loc[data['emotion'] > 1, 'emotion'] -= 1 "
      ],
      "execution_count": 0,
      "outputs": []
    },
    {
      "cell_type": "code",
      "metadata": {
        "id": "zhnlHosYKGoJ",
        "colab_type": "code",
        "outputId": "73386935-2ba4-49f4-8048-0baa4745298e",
        "colab": {
          "base_uri": "https://localhost:8080/",
          "height": 35
        }
      },
      "source": [
        "data.emotion.unique()"
      ],
      "execution_count": 0,
      "outputs": [
        {
          "output_type": "execute_result",
          "data": {
            "text/plain": [
              "array([0, 1, 3, 5, 2, 4])"
            ]
          },
          "metadata": {
            "tags": []
          },
          "execution_count": 134
        }
      ]
    },
    {
      "cell_type": "code",
      "metadata": {
        "id": "y3aAVZ_YKOdS",
        "colab_type": "code",
        "colab": {}
      },
      "source": [
        "#New expression dictionary\n",
        "emotion = {0:'Angry', \n",
        "           1:'Fear', \n",
        "           2:'Happy', \n",
        "           3:'Sad', \n",
        "           4:'Surprise', \n",
        "           5:'Neutral'\n",
        "          }"
      ],
      "execution_count": 0,
      "outputs": []
    },
    {
      "cell_type": "code",
      "metadata": {
        "id": "S4wf1N7vFSGx",
        "colab_type": "code",
        "outputId": "6ceaf697-a221-4c3f-a9a0-de7387b132e3",
        "colab": {
          "base_uri": "https://localhost:8080/",
          "height": 138
        }
      },
      "source": [
        "data['emotion'].astype(int).map(emotion).value_counts()"
      ],
      "execution_count": 0,
      "outputs": [
        {
          "output_type": "execute_result",
          "data": {
            "text/plain": [
              "Happy       8989\n",
              "Neutral     6198\n",
              "Sad         6077\n",
              "Fear        5121\n",
              "Angry       4953\n",
              "Surprise    4002\n",
              "Name: emotion, dtype: int64"
            ]
          },
          "metadata": {
            "tags": []
          },
          "execution_count": 136
        }
      ]
    },
    {
      "cell_type": "code",
      "metadata": {
        "id": "Xmz_o8THd9ZL",
        "colab_type": "code",
        "outputId": "58d2be03-e67a-4081-f44d-f3c364d8ba13",
        "colab": {
          "base_uri": "https://localhost:8080/",
          "height": 281
        }
      },
      "source": [
        "sns.barplot(data['emotion'].astype(int).map(emotion).value_counts().values, \n",
        "            data['emotion'].astype(int).map(emotion).value_counts().index,\n",
        "           alpha=.5)\n",
        "plt.title('Distribution of expressions')\n",
        "sns.despine()\n",
        "plt.show()"
      ],
      "execution_count": 0,
      "outputs": [
        {
          "output_type": "display_data",
          "data": {
            "image/png": "[encoded data removed]",
            "text/plain": [
              "<Figure size 432x288 with 1 Axes>"
            ]
          },
          "metadata": {
            "tags": []
          }
        }
      ]
    },
    {
      "cell_type": "code",
      "metadata": {
        "id": "rSgrFi13yY9E",
        "colab_type": "code",
        "outputId": "e70acb2f-6741-4049-9bbb-f378d2b29ff1",
        "colab": {
          "base_uri": "https://localhost:8080/",
          "height": 35
        }
      },
      "source": [
        "data['Usage'].unique()"
      ],
      "execution_count": 0,
      "outputs": [
        {
          "output_type": "execute_result",
          "data": {
            "text/plain": [
              "array(['Training', 'PublicTest', 'PrivateTest'], dtype=object)"
            ]
          },
          "metadata": {
            "tags": []
          },
          "execution_count": 138
        }
      ]
    },
    {
      "cell_type": "code",
      "metadata": {
        "id": "9s6CW0HpqN2D",
        "colab_type": "code",
        "outputId": "34b8baf4-b0f3-49c9-ea11-47170053fffd",
        "colab": {
          "base_uri": "https://localhost:8080/",
          "height": 281
        }
      },
      "source": [
        "sns.barplot(data['Usage'].value_counts().values,\n",
        "           data['Usage'].value_counts().index,\n",
        "           alpha=.5)\n",
        "plt.title('Distribution of the data by the \"Usage\" column')\n",
        "sns.despine()\n",
        "plt.show()"
      ],
      "execution_count": 0,
      "outputs": [
        {
          "output_type": "display_data",
          "data": {
            "image/png": "[encoded data removed]",
            "text/plain": [
              "<Figure size 432x288 with 1 Axes>"
            ]
          },
          "metadata": {
            "tags": []
          }
        }
      ]
    },
    {
      "cell_type": "markdown",
      "metadata": {
        "id": "1cdQrRTv70bV",
        "colab_type": "text"
      },
      "source": [
        "Preprocessing"
      ]
    },
    {
      "cell_type": "code",
      "metadata": {
        "id": "gAOaKHmPyY9H",
        "colab_type": "code",
        "colab": {}
      },
      "source": [
        "training_data = data[data['Usage'] == 'Training']['pixels']\n",
        "\n",
        "validation_data = data[data['Usage'] == 'PrivateTest']['pixels']\n",
        "\n",
        "testing_data = data[data['Usage'] == 'PublicTest']['pixels']"
      ],
      "execution_count": 0,
      "outputs": []
    },
    {
      "cell_type": "code",
      "metadata": {
        "id": "XwJc0zUGyY9K",
        "colab_type": "code",
        "outputId": "081c4369-d185-481a-c836-174a6d2b29bd",
        "colab": {
          "base_uri": "https://localhost:8080/",
          "height": 35
        }
      },
      "source": [
        "training_data.shape"
      ],
      "execution_count": 0,
      "outputs": [
        {
          "output_type": "execute_result",
          "data": {
            "text/plain": [
              "(28273,)"
            ]
          },
          "metadata": {
            "tags": []
          },
          "execution_count": 141
        }
      ]
    },
    {
      "cell_type": "code",
      "metadata": {
        "id": "YB62iJk2qsTp",
        "colab_type": "code",
        "outputId": "8cef3a80-5bbe-48f4-fb9b-029797d11a8a",
        "colab": {
          "base_uri": "https://localhost:8080/",
          "height": 35
        }
      },
      "source": [
        "validation_data.shape"
      ],
      "execution_count": 0,
      "outputs": [
        {
          "output_type": "execute_result",
          "data": {
            "text/plain": [
              "(3534,)"
            ]
          },
          "metadata": {
            "tags": []
          },
          "execution_count": 142
        }
      ]
    },
    {
      "cell_type": "code",
      "metadata": {
        "id": "luZ2uJ_ByY9M",
        "colab_type": "code",
        "outputId": "534b864e-92e2-42eb-eed7-aa081fb34f68",
        "colab": {
          "base_uri": "https://localhost:8080/",
          "height": 35
        }
      },
      "source": [
        "testing_data.shape"
      ],
      "execution_count": 0,
      "outputs": [
        {
          "output_type": "execute_result",
          "data": {
            "text/plain": [
              "(3533,)"
            ]
          },
          "metadata": {
            "tags": []
          },
          "execution_count": 143
        }
      ]
    },
    {
      "cell_type": "markdown",
      "metadata": {
        "id": "-4_ZKp4HyY9S",
        "colab_type": "text"
      },
      "source": [
        "Reshaping strings into a 48 by 48 matrix of integers."
      ]
    },
    {
      "cell_type": "code",
      "metadata": {
        "id": "Y0t_9LkFyY9T",
        "colab_type": "code",
        "colab": {}
      },
      "source": [
        "def adjust_pixels(string):\n",
        "    return np.array([int(s) for s in string.split()])"
      ],
      "execution_count": 0,
      "outputs": []
    },
    {
      "cell_type": "code",
      "metadata": {
        "id": "74Wi2fSFyY9V",
        "colab_type": "code",
        "colab": {}
      },
      "source": [
        "training_data = training_data.apply(adjust_pixels).values\n",
        "validation_data = validation_data.apply(adjust_pixels).values\n",
        "testing_data = testing_data.apply(adjust_pixels).values"
      ],
      "execution_count": 0,
      "outputs": []
    },
    {
      "cell_type": "code",
      "metadata": {
        "id": "49y7fcrOyY9a",
        "colab_type": "code",
        "colab": {}
      },
      "source": [
        "train = list()\n",
        "for arr in training_data:\n",
        "    arr = np.reshape(arr, (48,48))\n",
        "    train.append(arr)\n",
        "train = np.array(train)\n",
        "\n",
        "validate = list()\n",
        "for arr in validation_data:\n",
        "    arr = np.reshape(arr, (48,48))\n",
        "    validate.append(arr)\n",
        "validate = np.array(validate)\n",
        "\n",
        "test = list()\n",
        "for arr in testing_data:\n",
        "    arr = np.reshape(arr, (48,48))\n",
        "    test.append(arr)\n",
        "test = np.array(test)"
      ],
      "execution_count": 0,
      "outputs": []
    },
    {
      "cell_type": "code",
      "metadata": {
        "id": "vqVcavrSyY9d",
        "colab_type": "code",
        "outputId": "1d6334bc-3a9a-489b-f226-16a33fb2ef09",
        "colab": {
          "base_uri": "https://localhost:8080/",
          "height": 35
        }
      },
      "source": [
        "train.shape"
      ],
      "execution_count": 0,
      "outputs": [
        {
          "output_type": "execute_result",
          "data": {
            "text/plain": [
              "(28273, 48, 48)"
            ]
          },
          "metadata": {
            "tags": []
          },
          "execution_count": 147
        }
      ]
    },
    {
      "cell_type": "code",
      "metadata": {
        "id": "fOr9bnG5q7U4",
        "colab_type": "code",
        "outputId": "7220c338-ec40-4f54-c19f-bee1b6068507",
        "colab": {
          "base_uri": "https://localhost:8080/",
          "height": 35
        }
      },
      "source": [
        "validate.shape"
      ],
      "execution_count": 0,
      "outputs": [
        {
          "output_type": "execute_result",
          "data": {
            "text/plain": [
              "(3534, 48, 48)"
            ]
          },
          "metadata": {
            "tags": []
          },
          "execution_count": 148
        }
      ]
    },
    {
      "cell_type": "code",
      "metadata": {
        "id": "wfcAd-AYyY9f",
        "colab_type": "code",
        "outputId": "650acf67-8cf9-4ddb-8197-a10a475d96f8",
        "colab": {
          "base_uri": "https://localhost:8080/",
          "height": 35
        }
      },
      "source": [
        "test.shape"
      ],
      "execution_count": 0,
      "outputs": [
        {
          "output_type": "execute_result",
          "data": {
            "text/plain": [
              "(3533, 48, 48)"
            ]
          },
          "metadata": {
            "tags": []
          },
          "execution_count": 149
        }
      ]
    },
    {
      "cell_type": "code",
      "metadata": {
        "id": "fSEcofw9yY9i",
        "colab_type": "code",
        "outputId": "f8802f3a-9413-420c-82f4-716c33a27213",
        "colab": {
          "base_uri": "https://localhost:8080/",
          "height": 286
        }
      },
      "source": [
        "#Example image\n",
        "plt.imshow(train[5], cmap='gray')\n",
        "print('Emotion:', emotion[data.iloc[5][0]])"
      ],
      "execution_count": 0,
      "outputs": [
        {
          "output_type": "stream",
          "text": [
            "Emotion: Fear\n"
          ],
          "name": "stdout"
        },
        {
          "output_type": "display_data",
          "data": {
            "image/png": "[encoded data removed]",
            "text/plain": [
              "<Figure size 432x288 with 1 Axes>"
            ]
          },
          "metadata": {
            "tags": []
          }
        }
      ]
    },
    {
      "cell_type": "markdown",
      "metadata": {
        "id": "ksDVsa7z8DLs",
        "colab_type": "text"
      },
      "source": [
        "Keras requires categorical labels"
      ]
    },
    {
      "cell_type": "code",
      "metadata": {
        "id": "leEhdmL3yY9k",
        "colab_type": "code",
        "colab": {}
      },
      "source": [
        "train_labels = data[data['Usage'] == 'Training']['emotion']\n",
        "validation_labels = data[data['Usage'] == 'PrivateTest']['emotion']\n",
        "test_labels = data[data['Usage'] == 'PublicTest']['emotion']\n",
        "\n",
        "train_labels = to_categorical(train_labels, num_classes=6)\n",
        "validation_labels = to_categorical(validation_labels, num_classes=6)\n",
        "testing_labels = to_categorical(test_labels, num_classes=6)"
      ],
      "execution_count": 0,
      "outputs": []
    },
    {
      "cell_type": "code",
      "metadata": {
        "id": "i06Q_eefyY9n",
        "colab_type": "code",
        "outputId": "9673bb42-9e12-4911-835e-3ae529b785bf",
        "colab": {
          "base_uri": "https://localhost:8080/",
          "height": 35
        }
      },
      "source": [
        "train_labels.shape"
      ],
      "execution_count": 0,
      "outputs": [
        {
          "output_type": "execute_result",
          "data": {
            "text/plain": [
              "(28273, 6)"
            ]
          },
          "metadata": {
            "tags": []
          },
          "execution_count": 154
        }
      ]
    },
    {
      "cell_type": "code",
      "metadata": {
        "id": "OS-MP1rlyY9w",
        "colab_type": "code",
        "colab": {}
      },
      "source": [
        "#Reshape for CNN\n",
        "train = train.reshape(train.shape[0], 48, 48, 1)\n",
        "validate = validate.reshape(validate.shape[0], 48, 48, 1)\n",
        "test = test.reshape(test.shape[0], 48, 48, 1)"
      ],
      "execution_count": 0,
      "outputs": []
    },
    {
      "cell_type": "code",
      "metadata": {
        "id": "bzQXXoe_yY92",
        "colab_type": "code",
        "outputId": "6450f97a-8863-4fa4-9a15-b2669b3aab33",
        "colab": {
          "base_uri": "https://localhost:8080/",
          "height": 35
        }
      },
      "source": [
        "train.shape"
      ],
      "execution_count": 0,
      "outputs": [
        {
          "output_type": "execute_result",
          "data": {
            "text/plain": [
              "(28273, 48, 48, 1)"
            ]
          },
          "metadata": {
            "tags": []
          },
          "execution_count": 156
        }
      ]
    },
    {
      "cell_type": "code",
      "metadata": {
        "id": "7RQ4XRMtso-Z",
        "colab_type": "code",
        "outputId": "feb3e461-501c-4d8d-a21f-6fe1060181f2",
        "colab": {
          "base_uri": "https://localhost:8080/",
          "height": 35
        }
      },
      "source": [
        "validate.shape"
      ],
      "execution_count": 0,
      "outputs": [
        {
          "output_type": "execute_result",
          "data": {
            "text/plain": [
              "(3534, 48, 48, 1)"
            ]
          },
          "metadata": {
            "tags": []
          },
          "execution_count": 157
        }
      ]
    },
    {
      "cell_type": "code",
      "metadata": {
        "id": "t6cxLrOPyY97",
        "colab_type": "code",
        "outputId": "0ac90285-3f24-4316-e0cd-c0dae8c78b61",
        "colab": {
          "base_uri": "https://localhost:8080/",
          "height": 35
        }
      },
      "source": [
        "test.shape"
      ],
      "execution_count": 0,
      "outputs": [
        {
          "output_type": "execute_result",
          "data": {
            "text/plain": [
              "(3533, 48, 48, 1)"
            ]
          },
          "metadata": {
            "tags": []
          },
          "execution_count": 158
        }
      ]
    },
    {
      "cell_type": "code",
      "metadata": {
        "id": "ow_yTIf9yY9_",
        "colab_type": "code",
        "colab": {}
      },
      "source": [
        "gen = ImageDataGenerator(rescale=1./255,      #Rescale the data so the values are in range [0,1]\n",
        "                         rotation_range=20, \n",
        "                         zoom_range=0.1,\n",
        "                         horizontal_flip=True)"
      ],
      "execution_count": 0,
      "outputs": []
    },
    {
      "cell_type": "code",
      "metadata": {
        "id": "MdrOLYrBkBQe",
        "colab_type": "code",
        "colab": {}
      },
      "source": [
        "#Fit to training data\n",
        "gen.fit(train)"
      ],
      "execution_count": 0,
      "outputs": []
    },
    {
      "cell_type": "code",
      "metadata": {
        "id": "ZmYRGjFykBUJ",
        "colab_type": "code",
        "colab": {}
      },
      "source": [
        "train_flow = gen.flow(train, train_labels)"
      ],
      "execution_count": 0,
      "outputs": []
    },
    {
      "cell_type": "code",
      "metadata": {
        "id": "RbxMJOVntHrY",
        "colab_type": "code",
        "colab": {}
      },
      "source": [
        "#Rescale testing and validation data\n",
        "test = test / 255.0\n",
        "#validate = validate / 255.0\n",
        "testing_gen = ImageDataGenerator(rescale=1./255)\n",
        "#test_flow = testing_gen.flow(test, test_labels)\n",
        "validation_flow = testing_gen.flow(validate, validation_labels)"
      ],
      "execution_count": 0,
      "outputs": []
    },
    {
      "cell_type": "code",
      "metadata": {
        "id": "pVQlsfzjyY-E",
        "colab_type": "code",
        "outputId": "22f2211c-51ee-44f3-9101-6c56e9b0038f",
        "colab": {
          "base_uri": "https://localhost:8080/",
          "height": 193
        }
      },
      "source": [
        "input_layers = Input(shape=(48,48,1), name='input')\n",
        "\n",
        "conv_2D_1 = Conv2D(32, kernel_size=3, activation='relu', padding='same')(input_layers)\n",
        "batch_1 = BatchNormalization()(conv_2D_1)\n",
        "\n",
        "conv_2D_2 = Conv2D(32, kernel_size=3, activation='relu', padding='same')(batch_1)\n",
        "max_pool_1 = MaxPooling2D((2,2), name='MaxPooling_1')(conv_2D_2)\n",
        "dropout_1 = Dropout(0.2)(max_pool_1)\n",
        "\n",
        "conv_2D_3 = Conv2D(32, kernel_size=3, activation='relu', padding='same')(dropout_1)\n",
        "batch_2 = BatchNormalization()(conv_2D_3)\n",
        "\n",
        "conv_2D_4 = Conv2D(64, kernel_size=3, activation='relu', padding='same')(batch_2)\n",
        "batch_3 = BatchNormalization()(conv_2D_3)\n",
        "max_pool_2 = MaxPooling2D((2,2), name='MaxPooling_2')(batch_3)\n",
        "\n",
        "conv_2D_5 = Conv2D(64, kernel_size=3, activation='relu', padding='same')(max_pool_2)\n",
        "batch_4 = BatchNormalization()(conv_2D_5)\n",
        "\n",
        "conv_2D_6 = Conv2D(64, kernel_size=3, activation='relu', padding='same')(batch_4)\n",
        "max_pool_3 = MaxPooling2D((2,2), name='MaxPooling_3')(conv_2D_6)\n",
        "\n",
        "conv_2D_7 = Conv2D(64, kernel_size=3, activation='relu', padding='same')(max_pool_3)\n",
        "batch_5 = BatchNormalization()(conv_2D_7)\n",
        "\n",
        "flatten = Flatten()(batch_5)\n",
        "\n",
        "dense_1 = Dense(32, activation='sigmoid', name='dense_1')(flatten)\n",
        "\n",
        "dense_2 = Dense(64, activation='sigmoid', name='dense_2')(dense_1)\n",
        "\n",
        "output = Dense(6, activation='softmax', name='output')(dense_2)\n",
        "\n",
        "model = Model(input_layers, output)\n",
        "\n",
        "model.compile(optimizer=\"adam\", loss=\"categorical_crossentropy\", metrics=[\"acc\"])"
      ],
      "execution_count": 0,
      "outputs": [
        {
          "output_type": "stream",
          "text": [
            "WARNING:tensorflow:From /usr/local/lib/python3.6/dist-packages/keras/backend/tensorflow_backend.py:541: The name tf.placeholder is deprecated. Please use tf.compat.v1.placeholder instead.\n",
            "\n",
            "WARNING:tensorflow:From /usr/local/lib/python3.6/dist-packages/keras/backend/tensorflow_backend.py:2041: The name tf.nn.fused_batch_norm is deprecated. Please use tf.compat.v1.nn.fused_batch_norm instead.\n",
            "\n",
            "WARNING:tensorflow:From /usr/local/lib/python3.6/dist-packages/keras/backend/tensorflow_backend.py:3733: calling dropout (from tensorflow.python.ops.nn_ops) with keep_prob is deprecated and will be removed in a future version.\n",
            "Instructions for updating:\n",
            "Please use `rate` instead of `keep_prob`. Rate should be set to `rate = 1 - keep_prob`.\n",
            "WARNING:tensorflow:From /usr/local/lib/python3.6/dist-packages/keras/optimizers.py:793: The name tf.train.Optimizer is deprecated. Please use tf.compat.v1.train.Optimizer instead.\n",
            "\n"
          ],
          "name": "stdout"
        }
      ]
    },
    {
      "cell_type": "code",
      "metadata": {
        "id": "geUZNb-RyY-G",
        "colab_type": "code",
        "outputId": "20ba0203-7d1f-455f-eb20-3611ad34a50b",
        "colab": {
          "base_uri": "https://localhost:8080/",
          "height": 812
        }
      },
      "source": [
        "model.summary()"
      ],
      "execution_count": 0,
      "outputs": [
        {
          "output_type": "stream",
          "text": [
            "Model: \"model_1\"\n",
            "_________________________________________________________________\n",
            "Layer (type)                 Output Shape              Param #   \n",
            "=================================================================\n",
            "input (InputLayer)           (None, 48, 48, 1)         0         \n",
            "_________________________________________________________________\n",
            "conv2d_1 (Conv2D)            (None, 48, 48, 32)        320       \n",
            "_________________________________________________________________\n",
            "batch_normalization_1 (Batch (None, 48, 48, 32)        128       \n",
            "_________________________________________________________________\n",
            "conv2d_2 (Conv2D)            (None, 48, 48, 32)        9248      \n",
            "_________________________________________________________________\n",
            "MaxPooling_1 (MaxPooling2D)  (None, 24, 24, 32)        0         \n",
            "_________________________________________________________________\n",
            "dropout_1 (Dropout)          (None, 24, 24, 32)        0         \n",
            "_________________________________________________________________\n",
            "conv2d_3 (Conv2D)            (None, 24, 24, 32)        9248      \n",
            "_________________________________________________________________\n",
            "batch_normalization_3 (Batch (None, 24, 24, 32)        128       \n",
            "_________________________________________________________________\n",
            "MaxPooling_2 (MaxPooling2D)  (None, 12, 12, 32)        0         \n",
            "_________________________________________________________________\n",
            "conv2d_5 (Conv2D)            (None, 12, 12, 64)        18496     \n",
            "_________________________________________________________________\n",
            "batch_normalization_4 (Batch (None, 12, 12, 64)        256       \n",
            "_________________________________________________________________\n",
            "conv2d_6 (Conv2D)            (None, 12, 12, 64)        36928     \n",
            "_________________________________________________________________\n",
            "MaxPooling_3 (MaxPooling2D)  (None, 6, 6, 64)          0         \n",
            "_________________________________________________________________\n",
            "conv2d_7 (Conv2D)            (None, 6, 6, 64)          36928     \n",
            "_________________________________________________________________\n",
            "batch_normalization_5 (Batch (None, 6, 6, 64)          256       \n",
            "_________________________________________________________________\n",
            "flatten_1 (Flatten)          (None, 2304)              0         \n",
            "_________________________________________________________________\n",
            "dense_1 (Dense)              (None, 32)                73760     \n",
            "_________________________________________________________________\n",
            "dense_2 (Dense)              (None, 64)                2112      \n",
            "_________________________________________________________________\n",
            "output (Dense)               (None, 6)                 390       \n",
            "=================================================================\n",
            "Total params: 188,198\n",
            "Trainable params: 187,814\n",
            "Non-trainable params: 384\n",
            "_________________________________________________________________\n"
          ],
          "name": "stdout"
        }
      ]
    },
    {
      "cell_type": "code",
      "metadata": {
        "id": "H5JA55t86Qpz",
        "colab_type": "code",
        "colab": {}
      },
      "source": [
        "callback = [EarlyStopping(monitor='val_loss', patience=5, restore_best_weights=True)]"
      ],
      "execution_count": 0,
      "outputs": []
    },
    {
      "cell_type": "code",
      "metadata": {
        "id": "k_kVBv7LyY-J",
        "colab_type": "code",
        "outputId": "e1423245-e3ba-408c-a672-03b60abc1ae2",
        "colab": {
          "base_uri": "https://localhost:8080/",
          "height": 985
        }
      },
      "source": [
        "history = model.fit_generator(train_flow, \n",
        "                              steps_per_epoch=len(train)/32, \n",
        "                              epochs=50, \n",
        "                              callbacks=callback,\n",
        "                              validation_data=validation_flow,\n",
        "                              validation_steps=len(validate)/32)"
      ],
      "execution_count": 0,
      "outputs": [
        {
          "output_type": "stream",
          "text": [
            "Epoch 1/50\n",
            "884/883 [==============================] - 365s 413ms/step - loss: 1.5262 - acc: 0.3832 - val_loss: 1.3490 - val_acc: 0.4717\n",
            "Epoch 2/50\n",
            "884/883 [==============================] - 370s 418ms/step - loss: 1.3072 - acc: 0.4854 - val_loss: 1.3099 - val_acc: 0.4850\n",
            "Epoch 3/50\n",
            "884/883 [==============================] - 367s 415ms/step - loss: 1.2308 - acc: 0.5218 - val_loss: 1.2529 - val_acc: 0.5141\n",
            "Epoch 4/50\n",
            "884/883 [==============================] - 366s 414ms/step - loss: 1.1787 - acc: 0.5424 - val_loss: 1.1665 - val_acc: 0.5419\n",
            "Epoch 5/50\n",
            "884/883 [==============================] - 364s 412ms/step - loss: 1.1406 - acc: 0.5617 - val_loss: 1.1217 - val_acc: 0.5640\n",
            "Epoch 6/50\n",
            "884/883 [==============================] - 364s 412ms/step - loss: 1.1098 - acc: 0.5732 - val_loss: 1.0918 - val_acc: 0.5840\n",
            "Epoch 7/50\n",
            "884/883 [==============================] - 362s 409ms/step - loss: 1.0898 - acc: 0.5807 - val_loss: 1.0750 - val_acc: 0.5795\n",
            "Epoch 8/50\n",
            "884/883 [==============================] - 364s 412ms/step - loss: 1.0624 - acc: 0.5949 - val_loss: 1.0761 - val_acc: 0.5931\n",
            "Epoch 9/50\n",
            "884/883 [==============================] - 366s 414ms/step - loss: 1.0565 - acc: 0.5976 - val_loss: 1.0431 - val_acc: 0.6024\n",
            "Epoch 10/50\n",
            "884/883 [==============================] - 368s 416ms/step - loss: 1.0381 - acc: 0.6022 - val_loss: 1.0573 - val_acc: 0.5951\n",
            "Epoch 11/50\n",
            "884/883 [==============================] - 363s 411ms/step - loss: 1.0235 - acc: 0.6096 - val_loss: 1.0540 - val_acc: 0.6027\n",
            "Epoch 12/50\n",
            "884/883 [==============================] - 363s 411ms/step - loss: 1.0154 - acc: 0.6119 - val_loss: 1.0289 - val_acc: 0.6070\n",
            "Epoch 13/50\n",
            "884/883 [==============================] - 364s 412ms/step - loss: 0.9998 - acc: 0.6190 - val_loss: 1.0477 - val_acc: 0.5911\n",
            "Epoch 14/50\n",
            "884/883 [==============================] - 367s 415ms/step - loss: 0.9968 - acc: 0.6197 - val_loss: 1.0586 - val_acc: 0.6002\n",
            "Epoch 15/50\n",
            "884/883 [==============================] - 365s 412ms/step - loss: 0.9851 - acc: 0.6267 - val_loss: 1.1616 - val_acc: 0.5583\n",
            "Epoch 16/50\n",
            "884/883 [==============================] - 359s 406ms/step - loss: 0.9734 - acc: 0.6284 - val_loss: 1.0244 - val_acc: 0.6072\n",
            "Epoch 17/50\n",
            "884/883 [==============================] - 360s 407ms/step - loss: 0.9689 - acc: 0.6298 - val_loss: 1.0215 - val_acc: 0.6171\n",
            "Epoch 18/50\n",
            "884/883 [==============================] - 360s 408ms/step - loss: 0.9563 - acc: 0.6369 - val_loss: 1.0035 - val_acc: 0.6259\n",
            "Epoch 19/50\n",
            "884/883 [==============================] - 360s 408ms/step - loss: 0.9477 - acc: 0.6419 - val_loss: 1.0213 - val_acc: 0.6024\n",
            "Epoch 20/50\n",
            "884/883 [==============================] - 360s 407ms/step - loss: 0.9402 - acc: 0.6452 - val_loss: 1.0104 - val_acc: 0.6163\n",
            "Epoch 21/50\n",
            "884/883 [==============================] - 361s 408ms/step - loss: 0.9357 - acc: 0.6460 - val_loss: 0.9877 - val_acc: 0.6169\n",
            "Epoch 22/50\n",
            "884/883 [==============================] - 363s 411ms/step - loss: 0.9266 - acc: 0.6492 - val_loss: 0.9903 - val_acc: 0.6220\n",
            "Epoch 23/50\n",
            "884/883 [==============================] - 364s 412ms/step - loss: 0.9199 - acc: 0.6486 - val_loss: 0.9728 - val_acc: 0.6347\n",
            "Epoch 24/50\n",
            "884/883 [==============================] - 362s 410ms/step - loss: 0.9131 - acc: 0.6544 - val_loss: 0.9989 - val_acc: 0.6222\n",
            "Epoch 25/50\n",
            "884/883 [==============================] - 364s 412ms/step - loss: 0.9093 - acc: 0.6549 - val_loss: 1.0107 - val_acc: 0.6169\n",
            "Epoch 26/50\n",
            "884/883 [==============================] - 366s 414ms/step - loss: 0.8993 - acc: 0.6615 - val_loss: 1.0462 - val_acc: 0.6084\n",
            "Epoch 27/50\n",
            "884/883 [==============================] - 366s 414ms/step - loss: 0.8994 - acc: 0.6613 - val_loss: 1.0007 - val_acc: 0.6285\n",
            "Epoch 28/50\n",
            "884/883 [==============================] - 366s 414ms/step - loss: 0.8918 - acc: 0.6650 - val_loss: 0.9827 - val_acc: 0.6350\n"
          ],
          "name": "stdout"
        }
      ]
    },
    {
      "cell_type": "markdown",
      "metadata": {
        "id": "6FB05DuJnB1v",
        "colab_type": "text"
      },
      "source": [
        "Model evaluation using the test set"
      ]
    },
    {
      "cell_type": "code",
      "metadata": {
        "id": "NMEN2JtalvsY",
        "colab_type": "code",
        "outputId": "29fe1023-d7cb-4a3e-afef-ad9d1379ee86",
        "colab": {
          "base_uri": "https://localhost:8080/",
          "height": 35
        }
      },
      "source": [
        "test_loss, test_acc = model.evaluate(test, testing_labels)"
      ],
      "execution_count": 0,
      "outputs": [
        {
          "output_type": "stream",
          "text": [
            "3533/3533 [==============================] - 13s 4ms/step\n"
          ],
          "name": "stdout"
        }
      ]
    },
    {
      "cell_type": "markdown",
      "metadata": {
        "id": "Yt8c-65lnFmM",
        "colab_type": "text"
      },
      "source": [
        "Changes in loss and accuracy over epochs"
      ]
    },
    {
      "cell_type": "code",
      "metadata": {
        "id": "H-7R5oO_qCWj",
        "colab_type": "code",
        "outputId": "d7e82e81-2657-4417-a08b-8dcbec94c08d",
        "colab": {
          "base_uri": "https://localhost:8080/",
          "height": 295
        }
      },
      "source": [
        "plt.plot(history.history['loss'], label='train')\n",
        "plt.plot(history.history['val_loss'], '--',label='validation')\n",
        "plt.plot(27, test_loss,'gx', label='test')\n",
        "plt.title('Training, validation and test loss')\n",
        "plt.xlabel('Epochs')\n",
        "plt.ylabel('Loss')\n",
        "plt.legend()\n",
        "plt.show()"
      ],
      "execution_count": 0,
      "outputs": [
        {
          "output_type": "display_data",
          "data": {
            "image/png": "[encoded data removed]",
            "text/plain": [
              "<Figure size 432x288 with 1 Axes>"
            ]
          },
          "metadata": {
            "tags": []
          }
        }
      ]
    },
    {
      "cell_type": "code",
      "metadata": {
        "id": "cyeQK17qjfoG",
        "colab_type": "code",
        "outputId": "70712e6a-7f51-4e68-fb00-34859d40a9fb",
        "colab": {
          "base_uri": "https://localhost:8080/",
          "height": 295
        }
      },
      "source": [
        "plt.plot(history.history['acc'], label='train')\n",
        "plt.plot(history.history['val_acc'], '--', label='validation')\n",
        "plt.plot(27, test_acc,'gx', label='test')\n",
        "plt.title('Training, validation and testaccuracy')\n",
        "plt.xlabel('Epochs')\n",
        "plt.ylabel('Accuracy in %s')\n",
        "plt.legend()\n",
        "plt.show()"
      ],
      "execution_count": 0,
      "outputs": [
        {
          "output_type": "display_data",
          "data": {
            "image/png": "[encoded data removed]",
            "text/plain": [
              "<Figure size 432x288 with 1 Axes>"
            ]
          },
          "metadata": {
            "tags": []
          }
        }
      ]
    },
    {
      "cell_type": "markdown",
      "metadata": {
        "id": "B6Y9VcXF88oy",
        "colab_type": "text"
      },
      "source": [
        "Save the model to json file"
      ]
    },
    {
      "cell_type": "code",
      "metadata": {
        "id": "HMMpg5igyY-L",
        "colab_type": "code",
        "colab": {}
      },
      "source": [
        "#Serialize model to json\n",
        "json_model = model.to_json()\n",
        "with open('model.json', 'w') as json_file:\n",
        "  json_file.write(json_model)\n",
        "  \n",
        "#Serialize model to HDF5\n",
        "model.save_weights('model.h5')\n",
        "  \n",
        "  "
      ],
      "execution_count": 0,
      "outputs": []
    }
  ]
}